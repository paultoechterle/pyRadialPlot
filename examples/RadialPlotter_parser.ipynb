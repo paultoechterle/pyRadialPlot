{
 "cells": [
  {
   "cell_type": "code",
   "execution_count": 1,
   "metadata": {},
   "outputs": [],
   "source": [
    "from pyRadialPlot.utilities import read_radialplotter_file"
   ]
  },
  {
   "cell_type": "code",
   "execution_count": 2,
   "metadata": {},
   "outputs": [],
   "source": [
    "data = read_radialplotter_file(\"ressources/FTdata.csv\")"
   ]
  },
  {
   "cell_type": "code",
   "execution_count": 3,
   "metadata": {},
   "outputs": [],
   "source": [
    "data = read_radialplotter_file(\"ressources/OSLdata.csv\")"
   ]
  },
  {
   "cell_type": "code",
   "execution_count": 4,
   "metadata": {},
   "outputs": [],
   "source": [
    "estimates = data[\"Estimates\"]"
   ]
  },
  {
   "cell_type": "code",
   "execution_count": 8,
   "metadata": {},
   "outputs": [
    {
     "data": {
      "text/plain": [
       "[1.59,\n",
       " 2.02,\n",
       " 1.9,\n",
       " 1.26,\n",
       " 2.47,\n",
       " 2.2,\n",
       " 1.19,\n",
       " 1.45,\n",
       " 1.27,\n",
       " 1.95,\n",
       " 1.86,\n",
       " 1.27,\n",
       " 1.6,\n",
       " 1.58,\n",
       " 1.63,\n",
       " 1.31,\n",
       " 1.62,\n",
       " 1.48,\n",
       " 1.83,\n",
       " 1.8,\n",
       " 1.68,\n",
       " 1.67,\n",
       " 1.95,\n",
       " 2.11,\n",
       " 2.05,\n",
       " 1.53,\n",
       " 2.32,\n",
       " 2.1,\n",
       " 1.96,\n",
       " 1.59,\n",
       " 1.61,\n",
       " 2.12,\n",
       " 1.61,\n",
       " 1.53,\n",
       " 1.39,\n",
       " 1.59,\n",
       " 1.98,\n",
       " 1.64]"
      ]
     },
     "execution_count": 8,
     "metadata": {},
     "output_type": "execute_result"
    }
   ],
   "source": [
    "estimates"
   ]
  },
  {
   "cell_type": "code",
   "execution_count": 9,
   "metadata": {},
   "outputs": [
    {
     "data": {
      "text/plain": [
       "1.19"
      ]
     },
     "execution_count": 9,
     "metadata": {},
     "output_type": "execute_result"
    }
   ],
   "source": [
    "np.min(estimates)"
   ]
  },
  {
   "cell_type": "code",
   "execution_count": 10,
   "metadata": {},
   "outputs": [
    {
     "data": {
      "text/plain": [
       "2.47"
      ]
     },
     "execution_count": 10,
     "metadata": {},
     "output_type": "execute_result"
    }
   ],
   "source": [
    "np.max(estimates)"
   ]
  },
  {
   "cell_type": "code",
   "execution_count": null,
   "metadata": {},
   "outputs": [],
   "source": []
  }
 ],
 "metadata": {
  "kernelspec": {
   "display_name": "Python 3",
   "language": "python",
   "name": "python3"
  },
  "language_info": {
   "codemirror_mode": {
    "name": "ipython",
    "version": 3
   },
   "file_extension": ".py",
   "mimetype": "text/x-python",
   "name": "python",
   "nbconvert_exporter": "python",
   "pygments_lexer": "ipython3",
   "version": "3.7.4"
  }
 },
 "nbformat": 4,
 "nbformat_minor": 2
}
